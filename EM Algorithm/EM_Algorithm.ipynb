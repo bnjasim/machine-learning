{
 "cells": [
  {
   "cell_type": "code",
   "execution_count": 64,
   "metadata": {},
   "outputs": [],
   "source": [
    "import math\n",
    "import matplotlib.pyplot as plt"
   ]
  },
  {
   "cell_type": "code",
   "execution_count": 345,
   "metadata": {},
   "outputs": [],
   "source": [
    "with open('datasets/hw2dataset_100.txt', 'r') as f:\n",
    "    all_text = f.read()\n"
   ]
  },
  {
   "cell_type": "code",
   "execution_count": 346,
   "metadata": {},
   "outputs": [],
   "source": [
    "# print(all_text)"
   ]
  },
  {
   "cell_type": "code",
   "execution_count": 347,
   "metadata": {},
   "outputs": [],
   "source": [
    "text = all_text.split('\\n')[1:]"
   ]
  },
  {
   "cell_type": "code",
   "execution_count": 348,
   "metadata": {},
   "outputs": [],
   "source": [
    "# print(text)"
   ]
  },
  {
   "cell_type": "code",
   "execution_count": 349,
   "metadata": {},
   "outputs": [],
   "source": [
    "class Data:\n",
    "    def __init__(self, line):\n",
    "        line = line.split('\\t')\n",
    "        self.weight = int(line[1])\n",
    "        self.height = int(line[2])\n",
    "        self.missing = line[0] == '-' \n",
    "        # gamma female (prob. that gender is female)\n",
    "        self.gfem = 1 if line[0] == '1' else 0\n",
    "        \n"
   ]
  },
  {
   "cell_type": "code",
   "execution_count": 350,
   "metadata": {},
   "outputs": [],
   "source": [
    "# Store data in an array of Data objects\n",
    "data = []\n",
    "for t in text:\n",
    "    if len(t) > 4:\n",
    "        data.append(Data(t))"
   ]
  },
  {
   "cell_type": "code",
   "execution_count": 383,
   "metadata": {},
   "outputs": [],
   "source": [
    "prob_female = 0.95\n",
    "prob_female_height = 0.1\n",
    "prob_female_weight = 0.3\n",
    "prob_male_height = 0.85\n",
    "prob_male_weight = 0.9"
   ]
  },
  {
   "cell_type": "code",
   "execution_count": 370,
   "metadata": {},
   "outputs": [],
   "source": [
    "prob_female = 0.3\n",
    "prob_female_height = 0.7\n",
    "prob_female_weight = 0.6\n",
    "prob_male_height = 0.3\n",
    "prob_male_weight = 0.2"
   ]
  },
  {
   "cell_type": "code",
   "execution_count": 396,
   "metadata": {},
   "outputs": [],
   "source": [
    "# Initialization of parameters\n",
    "# There are 5 parameters\n",
    "prob_female = 0.5\n",
    "# prob. that height = 1\n",
    "prob_female_height = 0.5\n",
    "# prob. that weight = 1\n",
    "prob_female_weight = 0.5\n",
    "# prob. that height = 1\n",
    "prob_male_height = 0.5\n",
    "# prob. that weight = 1\n",
    "prob_male_weight = 0.5\n"
   ]
  },
  {
   "cell_type": "code",
   "execution_count": 397,
   "metadata": {},
   "outputs": [],
   "source": [
    "def prob(x, p):\n",
    "    # x is either 1 or 0\n",
    "    # p is the prob. that x = 1\n",
    "    return p if x == 1 else (1-p)\n",
    "    "
   ]
  },
  {
   "cell_type": "code",
   "execution_count": 398,
   "metadata": {},
   "outputs": [],
   "source": [
    "def log_likelihood():\n",
    "    sum = 0\n",
    "    for d in data:\n",
    "        if d.missing:\n",
    "            # marginalize joint probability for missing data\n",
    "            temp = prob_female * prob(d.weight, prob_female_weight) * prob(d.height, prob_female_height)\n",
    "            temp += (1-prob_female) * prob(d.weight, prob_male_weight) * prob(d.height, prob_male_height)\n",
    "        else:\n",
    "            # no marginalization for non missing data\n",
    "            if d.gfem == 1:\n",
    "                temp = prob_female * prob(d.weight, prob_female_weight) * prob(d.height, prob_female_height)\n",
    "            else:\n",
    "                temp = (1-prob_female) * prob(d.weight, prob_male_weight) * prob(d.height, prob_male_height)\n",
    "        sum += math.log(temp)\n",
    "    return sum"
   ]
  },
  {
   "cell_type": "code",
   "execution_count": 399,
   "metadata": {},
   "outputs": [],
   "source": [
    "llhood = []\n",
    "llhood.append(log_likelihood())\n",
    "\n",
    "N = len(data)\n",
    "for i in range(1,100):\n",
    "    # E Step: P(Z/X;Theta_old)\n",
    "    # Compute gamma values for each datapoint\n",
    "    for d in data:\n",
    "        # update the soft gender assignment for each missing value\n",
    "        if d.missing:\n",
    "            temp_f = prob_female * prob(d.weight, prob_female_weight) * prob(d.height, prob_female_height)\n",
    "            temp_m = (1-prob_female) * prob(d.weight, prob_male_weight) * prob(d.height, prob_male_height)\n",
    "            # update\n",
    "            d.gfem = temp_f / (temp_f + temp_m)\n",
    "        \n",
    "    # M Step: Update parameters using gamma values\n",
    "    # Effective number of females & males\n",
    "    N_female = sum([d.gfem for d in data])\n",
    "    N_male = N - N_female\n",
    "\n",
    "    # update gender probability\n",
    "    prob_female = N_female / N\n",
    "    \n",
    "    # update conditional parameters\n",
    "    prob_female_weight = sum([d.gfem * d.weight for d in data]) / N_female\n",
    "    prob_female_height = sum([d.gfem * d.height for d in data]) / N_female\n",
    "    prob_male_weight = sum([(1-d.gfem) * d.weight for d in data]) / N_male\n",
    "    prob_male_height = sum([(1-d.gfem) * d.height for d in data]) / N_male\n",
    "        \n",
    "    \n",
    "    # After M-step compute log likelihood\n",
    "    llhood.append(log_likelihood())\n",
    "    \n",
    "    if (llhood[-1] - llhood[-2]) < 0.0001:\n",
    "        break"
   ]
  },
  {
   "cell_type": "code",
   "execution_count": 400,
   "metadata": {},
   "outputs": [
    {
     "data": {
      "text/plain": [
       "[-27.725887222397812, -25.16621882179052, -25.16621882179052]"
      ]
     },
     "execution_count": 400,
     "metadata": {},
     "output_type": "execute_result"
    }
   ],
   "source": [
    "llhood"
   ]
  },
  {
   "cell_type": "code",
   "execution_count": 401,
   "metadata": {},
   "outputs": [
    {
     "data": {
      "text/plain": [
       "3"
      ]
     },
     "execution_count": 401,
     "metadata": {},
     "output_type": "execute_result"
    }
   ],
   "source": [
    "len(llhood)"
   ]
  },
  {
   "cell_type": "code",
   "execution_count": 402,
   "metadata": {},
   "outputs": [],
   "source": [
    "x = range(len(llhood))"
   ]
  },
  {
   "cell_type": "code",
   "execution_count": 403,
   "metadata": {},
   "outputs": [
    {
     "data": {
      "image/png": "[encoded data removed]",
      "text/plain": [
       "<Figure size 432x288 with 1 Axes>"
      ]
     },
     "metadata": {
      "needs_background": "light"
     },
     "output_type": "display_data"
    }
   ],
   "source": [
    "plt.plot(x, llhood, ':b')\n",
    "plt.title(\"Log Likelihood Curve\")\n",
    "plt.xlabel(\"Iteration\")\n",
    "plt.ylabel(\"log likelihood\");"
   ]
  },
  {
   "cell_type": "code",
   "execution_count": 404,
   "metadata": {},
   "outputs": [
    {
     "data": {
      "text/plain": [
       "0.5"
      ]
     },
     "execution_count": 404,
     "metadata": {},
     "output_type": "execute_result"
    }
   ],
   "source": [
    "prob_female"
   ]
  },
  {
   "cell_type": "code",
   "execution_count": 392,
   "metadata": {},
   "outputs": [
    {
     "data": {
      "text/plain": [
       "0.2746209939369473"
      ]
     },
     "execution_count": 392,
     "metadata": {},
     "output_type": "execute_result"
    }
   ],
   "source": [
    "prob_female_height"
   ]
  },
  {
   "cell_type": "code",
   "execution_count": 393,
   "metadata": {},
   "outputs": [
    {
     "data": {
      "text/plain": [
       "0.2271276357149236"
      ]
     },
     "execution_count": 393,
     "metadata": {},
     "output_type": "execute_result"
    }
   ],
   "source": [
    "prob_female_weight"
   ]
  },
  {
   "cell_type": "code",
   "execution_count": 394,
   "metadata": {},
   "outputs": [
    {
     "data": {
      "text/plain": [
       "0.962207649170037"
      ]
     },
     "execution_count": 394,
     "metadata": {},
     "output_type": "execute_result"
    }
   ],
   "source": [
    "prob_male_height"
   ]
  },
  {
   "cell_type": "code",
   "execution_count": 395,
   "metadata": {},
   "outputs": [
    {
     "data": {
      "text/plain": [
       "0.8918493909446281"
      ]
     },
     "execution_count": 395,
     "metadata": {},
     "output_type": "execute_result"
    }
   ],
   "source": [
    "prob_male_weight"
   ]
  },
  {
   "cell_type": "code",
   "execution_count": null,
   "metadata": {},
   "outputs": [],
   "source": []
  }
 ],
 "metadata": {
  "kernelspec": {
   "display_name": "Python [conda env:root] *",
   "language": "python",
   "name": "conda-root-py"
  },
  "language_info": {
   "codemirror_mode": {
    "name": "ipython",
    "version": 3
   },
   "file_extension": ".py",
   "mimetype": "text/x-python",
   "name": "python",
   "nbconvert_exporter": "python",
   "pygments_lexer": "ipython3",
   "version": "3.8.3"
  }
 },
 "nbformat": 4,
 "nbformat_minor": 4
}
